{
 "cells": [
  {
   "cell_type": "code",
   "execution_count": 1,
   "id": "exotic-expense",
   "metadata": {},
   "outputs": [],
   "source": [
    "import requests\n",
    "import random\n",
    "import string\n",
    "import matplotlib.pyplot as plt"
   ]
  },
  {
   "cell_type": "code",
   "execution_count": 2,
   "id": "anonymous-march",
   "metadata": {},
   "outputs": [],
   "source": [
    "k = 4\n",
    "weights = [26**(i + 1) for i in range(k)]\n",
    "M = sum(weights)\n",
    "\n",
    "def randomStringList(n):\n",
    "    # geramos aleatoriamente n números entre 1 e 4 nas proporções 1: 26, 2: 26**2, 3: 26**3, 4: 26**4,\n",
    "    # ou aproximadamente 1: 0,005%, 2: 0,14%, 3: 3,7%, 4: 96,15%\n",
    "    listOfNumbers = random.choices(range(1, k + 1), weights=weights, k=n)\n",
    "    randomCharacters = []\n",
    "    randomStrings = []\n",
    "\n",
    "    for i in range(len(listOfNumbers)):\n",
    "        # geramos k caracteres uniformemente, onde k é dado pela lista listOfNumbers\n",
    "        randomCharacters.append(random.choices(string.ascii_lowercase, k=listOfNumbers[i]))\n",
    "\n",
    "    for i in range(len(randomCharacters)):\n",
    "        # juntamos os caracteres em strings\n",
    "        URLstring = ''.join(randomCharacters[i])\n",
    "        randomStrings.append(URLstring)\n",
    "    return randomStrings"
   ]
  },
  {
   "cell_type": "code",
   "execution_count": 3,
   "id": "fatty-island",
   "metadata": {},
   "outputs": [],
   "source": [
    "yScale = []\n",
    "N = 100000\n",
    "randomStrings = randomStringList(N)\n",
    "\n",
    "returnCodes = []\n",
    "existingURLs = []\n",
    "count = 0\n",
    "errorCount = 0\n",
    "\n",
    "for n in range(N):\n",
    "    try:\n",
    "        URL = 'http://www.' + randomStrings[n] + '.ufrj.br'\n",
    "        status = requests.head(URL)\n",
    "        returnCodes.append(status.status_code)\n",
    "        existingURLs.append(URL)\n",
    "        if status.status_code < 400:\n",
    "            count += 1\n",
    "    except requests.ConnectionError:\n",
    "        errorCount += 1\n",
    "        \n",
    "    yScale.append(M * count / (n + 1))"
   ]
  },
  {
   "cell_type": "code",
   "execution_count": 57,
   "id": "completed-china",
   "metadata": {
    "scrolled": true
   },
   "outputs": [
    {
     "data": {
      "image/png": "[encoded data removed]",
      "text/plain": [
       "<Figure size 432x288 with 1 Axes>"
      ]
     },
     "metadata": {
      "needs_background": "light"
     },
     "output_type": "display_data"
    }
   ],
   "source": [
    "plt.plot(range(1, N + 1), yScale)\n",
    "plt.xlabel('Tamanho da amostra')\n",
    "plt.ylabel('Estimativa')\n",
    "plt.show()"
   ]
  }
 ],
 "metadata": {
  "kernelspec": {
   "display_name": "Python 3",
   "language": "python",
   "name": "python3"
  },
  "language_info": {
   "codemirror_mode": {
    "name": "ipython",
    "version": 3
   },
   "file_extension": ".py",
   "mimetype": "text/x-python",
   "name": "python",
   "nbconvert_exporter": "python",
   "pygments_lexer": "ipython3",
   "version": "3.7.9"
  }
 },
 "nbformat": 4,
 "nbformat_minor": 5
}
