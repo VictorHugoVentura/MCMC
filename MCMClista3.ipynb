{
 "cells": [
  {
   "cell_type": "code",
   "execution_count": 1,
   "id": "dimensional-kingdom",
   "metadata": {},
   "outputs": [],
   "source": [
    "import numpy as np\n",
    "import matplotlib.pyplot as plt\n",
    "import random\n",
    "\n",
    "def positive_lattice_random_step(state, p):\n",
    "    i = np.random.choice(range(4), p=(p/2,p/2,(1-p)/2,(1-p)/2))\n",
    "    if i == 0:\n",
    "        new_state = (state[0] + 1, state[1])\n",
    "    elif i == 1:\n",
    "        new_state = (state[0], state[1] + 1)\n",
    "    elif i == 2 and state[0] > 1:\n",
    "        new_state = (state[0] - 1, state[1])\n",
    "    elif i == 3 and state[1] > 1:\n",
    "        new_state = (state[0], state[1] - 1)\n",
    "    else:\n",
    "        new_state = state\n",
    "    return new_state\n",
    "\n",
    "def positive_lattice_random_walk(state, p, n=1000):\n",
    "    li = [state]\n",
    "    for _ in range(n):\n",
    "        state = positive_lattice_random_step(state, p)\n",
    "        li.append(state)\n",
    "    return li\n",
    "\n",
    "def ring_graph(n):\n",
    "    edges = np.zeros((n, 3), dtype=np.int32)\n",
    "    probs = [0.25, 0.75, 1]*np.ones((n, 3))\n",
    "\n",
    "    for i in range(1, n-1):\n",
    "        edges[i] = np.array([i-1, i, i+1])\n",
    "    \n",
    "    edges[0] = np.array([n-1, 0, 1])\n",
    "    edges[n-1] = np.array([n-2, n-1, 0])\n",
    "    \n",
    "    stat_dist = 1/100 * np.ones(n)\n",
    "    \n",
    "    return edges, probs, stat_dist\n",
    "\n",
    "def full_binary_tree_graph(n):\n",
    "    x = np.floor(np.log2(n))\n",
    "    last_level = 2 ** (x - 1) + (n - 2 ** x)//2\n",
    "    \n",
    "    edges = np.zeros((n, 4), dtype=np.int32)\n",
    "    probs = np.ones((n, 4))\n",
    "    stat_dist = np.ones(n)\n",
    "    \n",
    "    stat_dist[0] = 2\n",
    "    probs[:, 0] = 0.5\n",
    "    for i in range(n):\n",
    "        edges[i][0] = i\n",
    "    \n",
    "    probs[0][1] = 0.75\n",
    "    edges[0][1] = 1\n",
    "    edges[0][2] = 2\n",
    "    \n",
    "    for i in range(1, int(last_level)):\n",
    "        probs[i][1] = 0.5 + 1/6\n",
    "        probs[i][2] = 0.5 + 1/3\n",
    "        \n",
    "        edges[i][2] = 2*i\n",
    "        edges[i][3] = 2*i + 1\n",
    "        \n",
    "        stat_dist[i] = 3\n",
    "    \n",
    "    for i in range(1, n):\n",
    "        edges[i][1] = i // 2\n",
    "    \n",
    "    stat_dist *= 1/200\n",
    "        \n",
    "    return edges, probs, stat_dist\n",
    "\n",
    "def grid_graph(n):\n",
    "    # +1: direita, -1: esquerda, +l: baixo, -l: cima\n",
    "    edges = np.zeros((n, 5), dtype=np.int32)\n",
    "    probs = np.ones((n, 5))\n",
    "    stat_dist = np.ones(n)\n",
    "    \n",
    "    probs[:, 0] = 0.5\n",
    "    for i in range(n):\n",
    "        edges[i][0] = i\n",
    "    \n",
    "    l = int(np.sqrt(n))\n",
    "    \n",
    "    corners = {0: [1, l],                           # +1, +l\n",
    "               l - 1: [l - 2, 2 * l - 1],           # -1, +l\n",
    "               n - l: [n - 2 * l, n - l + 1],       # +1, -l\n",
    "               n - 1: [n - l - 1, n - 2]}           # -1, -l\n",
    "    \n",
    "    for i in corners:\n",
    "        edges[i][1:3] = corners[i]\n",
    "        probs[i][1] = 0.75\n",
    "        stat_dist[i] = 2\n",
    "\n",
    "    for r in range(2, l):\n",
    "        for s in range(1, l - 1):\n",
    "            sides = {s: [s - 1, s + 1, s + l],                                  # -1, +1, +l\n",
    "                     l*s: [l*s + 1, l*(s - 1), l*(s + 1)],                      # +1, -l, +l\n",
    "                     l*r - 1: [l*r - 2, l*(r - 1) - 1, l*(r + 1) - 1],          # -1, -l, +l\n",
    "                     n - l + s: [n - 2*l + s, n - l + s - 1, n - l + s + 1]}    # -1, +1, -l\n",
    "            side_probs = [2/3, 5/6]\n",
    "            for i in sides:\n",
    "                edges[i][1:4] = sides[i]\n",
    "                probs[i][1:3] = side_probs\n",
    "                stat_dist[i] = 3\n",
    "    \n",
    "    for r in range(1, l - 1):\n",
    "        for s in range(1, l - 1):\n",
    "            inside_probs = [5/8, 3/4, 7/8]\n",
    "            edges[l*r + s][1:] = [l*(s - 1) + s, l*r + s - 1, l*r + s + 1, l*(s + 1) + s]    # +/-1, +/-l\n",
    "            probs[l*r + s][1:4] = inside_probs\n",
    "            stat_dist[l*r + s] = 4\n",
    "    \n",
    "    stat_dist *= 1/360\n",
    "        \n",
    "    return edges, probs, stat_dist\n",
    "\n",
    "def total_variation(graph, probs, stat_dist, state=0, path_length=1000):\n",
    "    dist = np.zeros(n)\n",
    "    dist[state] = 1\n",
    "\n",
    "    variation = []\n",
    "\n",
    "    for i in range(1, path_length + 1):\n",
    "        u = random.random()\n",
    "        for j in range(graph[state].size):\n",
    "            if u < probs[state][j]:\n",
    "                new_state = graph[state][j]\n",
    "                break\n",
    "        state = new_state\n",
    "        dist[state] += 1 / i\n",
    "        dist *= i / (i + 1)\n",
    "    \n",
    "        variation.append(1/2 * np.linalg.norm(dist - stat_dist, 1))\n",
    "        \n",
    "    return variation\n",
    "\n",
    "def plotting_function(variation, title):\n",
    "    plt.plot(range(1, len(variation) + 1), variation)\n",
    "    plt.xscale('log')\n",
    "    plt.yscale('log')\n",
    "    plt.title(title)\n",
    "    plt.xlabel('Tempo')\n",
    "    plt.ylabel('Variação Total')\n",
    "    plt.show()"
   ]
  },
  {
   "cell_type": "code",
   "execution_count": 2,
   "id": "current-enclosure",
   "metadata": {},
   "outputs": [
    {
     "data": {
      "image/png": "[encoded data removed]",
      "text/plain": [
       "<Figure size 432x288 with 1 Axes>"
      ]
     },
     "metadata": {
      "needs_background": "light"
     },
     "output_type": "display_data"
    }
   ],
   "source": [
    "n = 100\n",
    "graph, probs, stat_dist = ring_graph(n)\n",
    "\n",
    "ring_variation = total_variation(graph, probs, stat_dist)\n",
    "plotting_function(ring_variation, 'Grafo em Anel')"
   ]
  },
  {
   "cell_type": "code",
   "execution_count": 15,
   "id": "wanted-dynamics",
   "metadata": {},
   "outputs": [
    {
     "data": {
      "image/png": "[encoded data removed]",
      "text/plain": [
       "<Figure size 432x288 with 1 Axes>"
      ]
     },
     "metadata": {
      "needs_background": "light"
     },
     "output_type": "display_data"
    }
   ],
   "source": [
    "n = 100\n",
    "graph, probs, stat_dist = full_binary_tree_graph(n)\n",
    "\n",
    "tree_variation = total_variation(graph, probs, stat_dist, state=0, path_length=1000)\n",
    "plotting_function(tree_variation, 'Árvore Binária Cheia')"
   ]
  },
  {
   "cell_type": "code",
   "execution_count": 12,
   "id": "supposed-california",
   "metadata": {},
   "outputs": [
    {
     "data": {
      "image/png": "[encoded data removed]",
      "text/plain": [
       "<Figure size 432x288 with 1 Axes>"
      ]
     },
     "metadata": {
      "needs_background": "light"
     },
     "output_type": "display_data"
    }
   ],
   "source": [
    "n = 100\n",
    "graph, probs, stat_dist = grid_graph(n)\n",
    "\n",
    "grid_variation = total_variation(graph, probs, stat_dist, state=0, path_length=1000)\n",
    "plotting_function(grid_variation, 'Reticulado')"
   ]
  },
  {
   "cell_type": "code",
   "execution_count": 5,
   "id": "solid-indianapolis",
   "metadata": {},
   "outputs": [
    {
     "name": "stdout",
     "output_type": "stream",
     "text": [
      "Probabilidade estacionária do estado (1, 1) para p = 0.25: 0.4486\n",
      "Probabilidade estacionária do estado (1, 1) para p = 0.35: 0.2115\n",
      "Probabilidade estacionária do estado (1, 1) para p = 0.45: 0.047\n"
     ]
    }
   ],
   "source": [
    "# calculando a distribuição estacionária de (1, 1) diretamente\n",
    "probs = [0.25, 0.35, 0.45]\n",
    "state = (1, 1)\n",
    "n = 10000\n",
    "\n",
    "for p in probs:\n",
    "    path = positive_lattice_random_walk(state, p, n=n)\n",
    "    count = 0\n",
    "    for i in range(len(path)):\n",
    "        if path[i] == (1, 1):\n",
    "            count += 1\n",
    "\n",
    "    print('Probabilidade estacionária do estado (1, 1) para p = ' + str(p) + ':', count/n)"
   ]
  },
  {
   "cell_type": "code",
   "execution_count": 6,
   "id": "aggressive-diagram",
   "metadata": {},
   "outputs": [
    {
     "name": "stdout",
     "output_type": "stream",
     "text": [
      "Probabilidade estacionária do estado (1, 1) para p = 0.25: 0.44483415171860907\n",
      "Probabilidade estacionária do estado (1, 1) para p = 0.35: 0.19536888532477947\n",
      "Probabilidade estacionária do estado (1, 1) para p = 0.45: 0.02842842842842843\n"
     ]
    }
   ],
   "source": [
    "# calculando a distribuição estacionária de (1, 1) utilizando os tempos de retorno\n",
    "probs = [0.25, 0.35, 0.45]\n",
    "state = (1, 1)\n",
    "n = 10000\n",
    "\n",
    "for p in probs:\n",
    "    path = positive_lattice_random_walk(state, p, n=n)\n",
    "    return_times = []\n",
    "    count = 0\n",
    "    for i in range(len(path)):\n",
    "        count += 1\n",
    "        if path[i] == (1, 1):\n",
    "            return_times.append(count)\n",
    "            count = 0\n",
    "\n",
    "    print('Probabilidade estacionária do estado (1, 1) para p = ' + str(p) + ':', 1/np.mean(return_times))"
   ]
  },
  {
   "cell_type": "code",
   "execution_count": 7,
   "id": "pleasant-mailman",
   "metadata": {},
   "outputs": [
    {
     "name": "stdout",
     "output_type": "stream",
     "text": [
      "Distância média entre (1, 1) e X_t para t = 10 e p = 0.25: 32.86\n",
      "Distância média entre (1, 1) e X_t para t = 100 e p = 0.25: 1.67\n",
      "Distância média entre (1, 1) e X_t para t = 1000 e p = 0.25: 0.9\n",
      "Distância média entre (1, 1) e X_t para t = 10 e p = 0.35: 35.16\n",
      "Distância média entre (1, 1) e X_t para t = 100 e p = 0.35: 11.06\n",
      "Distância média entre (1, 1) e X_t para t = 1000 e p = 0.35: 1.97\n",
      "Distância média entre (1, 1) e X_t para t = 10 e p = 0.45: 37.12\n",
      "Distância média entre (1, 1) e X_t para t = 100 e p = 0.45: 28.3\n",
      "Distância média entre (1, 1) e X_t para t = 1000 e p = 0.45: 9.77\n"
     ]
    }
   ],
   "source": [
    "N = 100    # número de vezes que rodamos cada programa\n",
    "time = [10, 100, 1000]\n",
    "dists = np.zeros(N)\n",
    "state = (20, 20)    # estado inicial\n",
    "\n",
    "for p in probs:\n",
    "    for t in time:\n",
    "        for n in range(N):\n",
    "            path = positive_lattice_random_walk(state, p, t)\n",
    "            x = np.asarray(path[-1])\n",
    "            dists[n] = np.linalg.norm(np.array([1, 1]) - x, 1)\n",
    "        print('Distância média entre (1, 1) e X_t para t =', t,'e p = ' + str(p) + ':', np.mean(dists))"
   ]
  }
 ],
 "metadata": {
  "kernelspec": {
   "display_name": "Python 3",
   "language": "python",
   "name": "python3"
  },
  "language_info": {
   "codemirror_mode": {
    "name": "ipython",
    "version": 3
   },
   "file_extension": ".py",
   "mimetype": "text/x-python",
   "name": "python",
   "nbconvert_exporter": "python",
   "pygments_lexer": "ipython3",
   "version": "3.7.9"
  }
 },
 "nbformat": 4,
 "nbformat_minor": 5
}
