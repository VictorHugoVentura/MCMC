{
 "cells": [
  {
   "cell_type": "code",
   "execution_count": 1,
   "id": "julian-infection",
   "metadata": {},
   "outputs": [],
   "source": [
    "from scipy.stats import binom"
   ]
  },
  {
   "cell_type": "code",
   "execution_count": 2,
   "id": "chicken-history",
   "metadata": {},
   "outputs": [],
   "source": [
    "n = 1000\n",
    "p = 0.2\n",
    "\n",
    "# equação de uma reta dados dois pontos (x_1, y_1), (x_2, y_2) do plano\n",
    "def line(x, x_1, y_1, x_2, y_2):\n",
    "    return y_1 + (y_2 - y_1) / (x_2 - x_1) * (x - x_1)\n",
    "\n",
    "# primeiro ponto da primeira reta\n",
    "x_1 = 0\n",
    "y_1 = binom.pmf(0, n, p)\n",
    "\n",
    "# segundo ponto da segunda reta\n",
    "x_4 = 1000\n",
    "y_4 = binom.pmf(1000, n, p)"
   ]
  },
  {
   "cell_type": "code",
   "execution_count": 3,
   "id": "gross-worthy",
   "metadata": {},
   "outputs": [
    {
     "name": "stdout",
     "output_type": "stream",
     "text": [
      "Segundo ponto da primeira reta: (199, 0.031486003668673664)\n"
     ]
    }
   ],
   "source": [
    "# Checando se cada ponto da binomial está de fato abaixo da reta definida por (x_1, y_1), (x_i, y_i),\n",
    "# para i = 2, 3, ..., 200 até achar o primeiro i tal que ai + b > binom(i, n, p) para todo i\n",
    "for i in range(2, 201):\n",
    "    x_2 = i\n",
    "    y_2 = binom.pmf(i, n, p)\n",
    "    for j in range(1, 201):\n",
    "        if binom.pmf(j, n, p) > line(j, x_1, y_1, x_2, y_2):\n",
    "            break\n",
    "        if j == 200:\n",
    "            print('Segundo ponto da primeira reta: (' + str(i) + ', ' + str(binom.pmf(i, n, p)) + ')')"
   ]
  },
  {
   "cell_type": "code",
   "execution_count": 4,
   "id": "opened-exclusive",
   "metadata": {},
   "outputs": [
    {
     "name": "stdout",
     "output_type": "stream",
     "text": [
      "Primeiro ponto da segunda reta: (200, 0.03152536117328694)\n"
     ]
    }
   ],
   "source": [
    "# Checando se cada ponto da binomial está de fato abaixo da reta definida por (x_i, y_i), (x_4, y_4),\n",
    "# para i = 200, 201, ..., 1000 até achar o primeiro i tal que ai + b > binom(i, n, p) para todo i\n",
    "for i in range(200, 1000):\n",
    "    x_3 = i\n",
    "    y_3 = binom.pmf(i, n, p)\n",
    "    for j in range(200, 1000):\n",
    "        if binom.pmf(j, n, p) > line(j, x_3, y_3, x_4, y_4):\n",
    "            break\n",
    "        if j == 800:\n",
    "            print('Primeiro ponto da segunda reta: (' + str(i) + ', ' + str(binom.pmf(i, n, p)) + ')')"
   ]
  }
 ],
 "metadata": {
  "kernelspec": {
   "display_name": "Python 3",
   "language": "python",
   "name": "python3"
  },
  "language_info": {
   "codemirror_mode": {
    "name": "ipython",
    "version": 3
   },
   "file_extension": ".py",
   "mimetype": "text/x-python",
   "name": "python",
   "nbconvert_exporter": "python",
   "pygments_lexer": "ipython3",
   "version": "3.7.9"
  }
 },
 "nbformat": 4,
 "nbformat_minor": 5
}
